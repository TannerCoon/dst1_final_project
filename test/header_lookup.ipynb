{
 "cells": [
  {
   "cell_type": "code",
   "execution_count": 129,
   "metadata": {},
   "outputs": [],
   "source": [
    "import yaml"
   ]
  },
  {
   "cell_type": "code",
   "execution_count": null,
   "metadata": {},
   "outputs": [],
   "source": []
  },
  {
   "cell_type": "code",
   "execution_count": null,
   "metadata": {},
   "outputs": [],
   "source": []
  },
  {
   "cell_type": "code",
   "execution_count": 130,
   "metadata": {},
   "outputs": [],
   "source": [
    "with open('./data/data.yaml') as file:\n",
    "    data = yaml.load(file, Loader=yaml.SafeLoader)"
   ]
  },
  {
   "cell_type": "code",
   "execution_count": null,
   "metadata": {},
   "outputs": [],
   "source": []
  },
  {
   "cell_type": "code",
   "execution_count": 135,
   "metadata": {
    "scrolled": true,
    "tags": []
   },
   "outputs": [],
   "source": [
    "COL_DICT = data['dictionary']\n",
    "# COL_DICT"
   ]
  },
  {
   "cell_type": "code",
   "execution_count": 132,
   "metadata": {},
   "outputs": [],
   "source": [
    "def get_info(col_str= None, col_var = None):\n",
    "    if col_var:\n",
    "        return COL_DICT[col_var]\n",
    "    elif col_str:\n",
    "        for var, col in COL_DICT.items():\n",
    "            try:\n",
    "                if col['source'] == col_str:\n",
    "                    return col\n",
    "            except:\n",
    "                if col_str in col['calculate']:\n",
    "                    return col\n",
    "\n",
    "def get_description(col_str= None, col_var = None):\n",
    "    if col_var:\n",
    "        return COL_DICT[col_var]['description']\n",
    "    elif col_str:\n",
    "        for var, col in COL_DICT.items():\n",
    "            try:\n",
    "                if col['source'] == col_str:\n",
    "                    return col['description']\n",
    "            except:\n",
    "                if col_str in col['calculate']:\n",
    "                    return col['description']\n",
    "            \n",
    "def get_col_str(col_var):\n",
    "    return COL_DICT[col_var]['source']\n",
    "\n",
    "def get_col_var(col_str):\n",
    "    for var, col in COL_DICT.items():\n",
    "        try:\n",
    "            if col['source'] == col_str:\n",
    "                return var\n",
    "        except:\n",
    "            if col_str in col['calculate']:\n",
    "                return var"
   ]
  },
  {
   "cell_type": "code",
   "execution_count": 133,
   "metadata": {},
   "outputs": [],
   "source": [
    "# %time\n",
    "# get_description(col_str= 'CIPTFBS1')"
   ]
  },
  {
   "cell_type": "code",
   "execution_count": 134,
   "metadata": {},
   "outputs": [],
   "source": [
    "# COL_DICT['completion.rate_suppressed.overall']"
   ]
  },
  {
   "cell_type": "code",
   "execution_count": null,
   "metadata": {},
   "outputs": [],
   "source": [
    "# PCIP47"
   ]
  }
 ],
 "metadata": {
  "kernelspec": {
   "display_name": "Python 3",
   "language": "python",
   "name": "python3"
  },
  "language_info": {
   "codemirror_mode": {
    "name": "ipython",
    "version": 3
   },
   "file_extension": ".py",
   "mimetype": "text/x-python",
   "name": "python",
   "nbconvert_exporter": "python",
   "pygments_lexer": "ipython3",
   "version": "3.8.5"
  }
 },
 "nbformat": 4,
 "nbformat_minor": 4
}
